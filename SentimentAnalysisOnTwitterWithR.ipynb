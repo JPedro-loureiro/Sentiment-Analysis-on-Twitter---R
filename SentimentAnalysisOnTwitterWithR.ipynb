{
 "cells": [
  {
   "cell_type": "markdown",
   "metadata": {},
   "source": [
    "## Índice\n",
    "\n",
    "### 1 - Análise de Sentimentos: uma introdução\n",
    "### 2 - Carregando os pacotes necessários\n",
    "### 3 - Conectando com a API do Twitter\n",
    "   #### 3.1 - Autenticação\n",
    "   #### 3.2 - Obtendo os tweets\n",
    "### 4 - Text Mining\n",
    "### 5 - Manipulação de dados\n",
    "#### 5.1 - Tokenização\n",
    "#### 5.2 - Núvem de palavras\n",
    "### 6 - Removendo as Stopwords\n",
    "### 7 - Dicionário Léxico\n",
    "### 8 - Resultados\n",
    "#### 8.1 - Top 10 tweets \"positivos\"\n",
    "#### 8.2 - Top 10 tweets \"negativos\"\n",
    "#### 8.3 - Overview da análise de sentimentos\n",
    "#### 8.4 - Análise de sentimentos em série temporal\n",
    "### 9 - Considerações finais"
   ]
  },
  {
   "cell_type": "markdown",
   "metadata": {},
   "source": [
    "### 1 - Análise de Sentimentos: uma introdução\n",
    "\n",
    "A análise de sentimentos é a tarefa que tem por objetivo analisar e identificar de maneira quantitativa o estado emocional e afetivo do autor através de seu texto. Existem diversos tipos de textos (acadêmicos, literários, jornalísticos e etc.) e neste artigo iremos analisar o que as pessoas dizem em suas contas do Twitter sobre o time de futebol do Clube de Regatas do Flamengo.\n"
   ]
  },
  {
   "cell_type": "markdown",
   "metadata": {},
   "source": [
    "### 2 - Carregando os pacotes necessários\n",
    "O primeiro passo a ser dado é carregar os pacotes que nos auxiliaram nesta jornada!"
   ]
  },
  {
   "cell_type": "code",
   "execution_count": null,
   "metadata": {},
   "outputs": [],
   "source": [
    "#Install\n",
    "install.packages(\"twitteR\")\n",
    "install.packages(\"rvest\")\n",
    "install.packages(\"tidyverse\")\n",
    "install.packages(\"tidytext\")\n",
    "install.packages(\"tm\")  # for text mining\n",
    "install.packages(\"SnowballC\") # for text stemming\n",
    "install.packages(\"wordcloud\") # word-cloud generator \n",
    "install.packages(\"RColorBrewer\") # color palettes\n",
    "install.packages(\"stopwords\")\n",
    "install.packages(\"lexiconPT\")"
   ]
  },
  {
   "cell_type": "code",
   "execution_count": 2,
   "metadata": {},
   "outputs": [
    {
     "name": "stderr",
     "output_type": "stream",
     "text": [
      "Warning message:\n",
      "\"package 'twitteR' was built under R version 3.6.1\"Warning message:\n",
      "\"package 'rvest' was built under R version 3.6.1\"Loading required package: xml2\n",
      "Warning message:\n",
      "\"package 'xml2' was built under R version 3.6.1\"Warning message:\n",
      "\"package 'tidyverse' was built under R version 3.6.1\"-- Attaching packages --------------------------------------- tidyverse 1.2.1 --\n",
      "v ggplot2 3.2.0     v purrr   0.3.2\n",
      "v tibble  2.1.3     v dplyr   0.8.3\n",
      "v tidyr   0.8.3     v stringr 1.4.0\n",
      "v readr   1.3.1     v forcats 0.4.0\n",
      "Warning message:\n",
      "\"package 'tibble' was built under R version 3.6.1\"Warning message:\n",
      "\"package 'tidyr' was built under R version 3.6.1\"Warning message:\n",
      "\"package 'readr' was built under R version 3.6.1\"Warning message:\n",
      "\"package 'purrr' was built under R version 3.6.1\"Warning message:\n",
      "\"package 'dplyr' was built under R version 3.6.1\"Warning message:\n",
      "\"package 'stringr' was built under R version 3.6.1\"Warning message:\n",
      "\"package 'forcats' was built under R version 3.6.1\"-- Conflicts ------------------------------------------ tidyverse_conflicts() --\n",
      "x dplyr::filter()         masks stats::filter()\n",
      "x readr::guess_encoding() masks rvest::guess_encoding()\n",
      "x dplyr::id()             masks twitteR::id()\n",
      "x dplyr::lag()            masks stats::lag()\n",
      "x dplyr::location()       masks twitteR::location()\n",
      "x purrr::pluck()          masks rvest::pluck()\n",
      "Warning message:\n",
      "\"package 'tidytext' was built under R version 3.6.1\"Warning message:\n",
      "\"package 'tm' was built under R version 3.6.1\"Loading required package: NLP\n",
      "\n",
      "Attaching package: 'NLP'\n",
      "\n",
      "The following object is masked from 'package:ggplot2':\n",
      "\n",
      "    annotate\n",
      "\n",
      "Warning message:\n",
      "\"package 'wordcloud' was built under R version 3.6.1\"Loading required package: RColorBrewer\n",
      "Warning message:\n",
      "\"package 'stopwords' was built under R version 3.6.1\"\n",
      "Attaching package: 'stopwords'\n",
      "\n",
      "The following object is masked from 'package:tm':\n",
      "\n",
      "    stopwords\n",
      "\n"
     ]
    }
   ],
   "source": [
    "library(twitteR)\n",
    "library(rvest)\n",
    "library(tidyverse)\n",
    "library(tidytext)\n",
    "library(tm)\n",
    "library(SnowballC)\n",
    "library(wordcloud)\n",
    "library(RColorBrewer)\n",
    "library(stopwords)\n",
    "library(lexiconPT)"
   ]
  },
  {
   "cell_type": "markdown",
   "metadata": {},
   "source": [
    "### 3 - Conectando com a API do Twitter\n",
    "#### 3.1 - Autenticação\n",
    "Após instalarmos e carregarmos todos os pacotes necessários, iremos efetuar a conexão com o Twitter através do pacote \"TwitteR\". Para isso precisamos das chaves de autenticação da API do twitter."
   ]
  },
  {
   "cell_type": "code",
   "execution_count": 3,
   "metadata": {},
   "outputs": [
    {
     "name": "stdout",
     "output_type": "stream",
     "text": [
      "[1] \"Using direct authentication\"\n"
     ]
    }
   ],
   "source": [
    "#API's and Token's keys\n",
    "API_key = \"hhrTn58RfcBoxjpGdvQbLTf6v\"\n",
    "API_secret_key = \"r6zON2bTvFv8qlaEDWWaIowRknxRxc97EGENdSBfdXZlFmkmrm\"\n",
    "Access_token = \"4928132291-OFnrrwGy5FKHLPePkUsxLA5exJwrbJ7l51azMWV\"\n",
    "Access_token_secret = \"q7inW05npl3S70yRihMkJdasF0roZyrlzZW46D1XTSbDd\"\n",
    "\n",
    "#OAuth\n",
    "setup_twitter_oauth(API_key, API_secret_key, Access_token, Access_token_secret)"
   ]
  },
  {
   "cell_type": "markdown",
   "metadata": {},
   "source": [
    "#### 3.2 - Obtendo os Tweets\n",
    "Em seguida, iremos criar uma função que solicita ao usuário uma palavra chave ou hashtag a ser buscada, a quantidade de tweets por dia, o idioma, a localidade e as datas iniciais e finais nas quais a pesquisa será feita. De posse destas informações, a função irá buscar os tweets de acordo com os parâmetros estabelecidos e armazenas as informações numa tabela chamada \"tweets_df\""
   ]
  },
  {
   "cell_type": "code",
   "execution_count": 18,
   "metadata": {},
   "outputs": [
    {
     "name": "stdout",
     "output_type": "stream",
     "text": [
      "A wordkey or a hashtag: flamengo\n",
      "The number of tweets per day: 500\n",
      "Language (ex.: pt): pt\n",
      "Tweets locale (ex.: br): br\n",
      "The inicial date (yyyy-mm-dd): 2019-07-16\n",
      "The final date (yyyy-mm-dd): 2019-07-23\n"
     ]
    }
   ],
   "source": [
    "#Search Twitters\n",
    "search_twiter <- function(){\n",
    "  #This function search for a specific number of tweets per day in a range of dates\n",
    "  #Return a Tibble whith 3 columns: 1- TweetID; 2- Date; 3- Tweet;\n",
    "  \n",
    "  #Search string\n",
    "  search_string <- paste(readline(prompt = \"A wordkey or a hashtag: \"), \" -filter:retweets\") #An exemple: \"flamengo -filter:retweets\"\n",
    "  \n",
    "  #Number of tweets per day\n",
    "  n_tweets <- as.integer(readline(prompt = \"The number of tweets per day: \"))\n",
    "  \n",
    "  #Language\n",
    "  language <- readline(prompt = \"Language (ex.: pt): \")\n",
    "  \n",
    "  #Locale\n",
    "  loc <- readline(prompt = \"Tweets locale (ex.: br): \")\n",
    "  \n",
    "  #Date range: yyyy-mm-dd\n",
    "  ini_date <- as.Date(readline(prompt = \"The inicial date (yyyy-mm-dd): \"), format = \"%Y-%m-%d\") #Inicial date\n",
    "  final_date <- as.Date(readline(prompt = \"The final date (yyyy-mm-dd): \"), format = \"%Y-%m-%d\") #Final date\n",
    "  n_days <- as.integer(final_date - ini_date)\n",
    "  \n",
    "  #Searching\n",
    "  tweets <- c()\n",
    "  date <- c()\n",
    "  for(day in 0:n_days){\n",
    "    tweets <- c(tweets, searchTwitter(searchString = search_string, n = n_tweets,\n",
    "                                                   lang = language, locale = loc,\n",
    "                                                   since = as.character(ini_date + day),\n",
    "                                                   until = as.character(ini_date + day + 1)))\n",
    "    \n",
    "    date <- c(date, rep(ini_date + day, n_tweets))\n",
    "  }\n",
    "  \n",
    "  tweets_df <- tibble(tweetID = 1:length(tweets),\n",
    "                      date = format(as.Date(date, origin = \"1970-01-01\"), \"%d-%m-%Y\"),\n",
    "                      tweets)\n",
    "  \n",
    "  return(tweets_df)\n",
    "}\n",
    "\n",
    "tweets_df <- search_twiter()"
   ]
  },
  {
   "cell_type": "markdown",
   "metadata": {},
   "source": [
    "Vamos dar uma olhada nos tweets que coletamos!"
   ]
  },
  {
   "cell_type": "code",
   "execution_count": 19,
   "metadata": {},
   "outputs": [
    {
     "data": {
      "text/html": [
       "<table>\n",
       "<thead><tr><th scope=col>tweetID</th><th scope=col>date</th><th scope=col>tweets</th></tr></thead>\n",
       "<tbody>\n",
       "\t<tr><td>1                                                        </td><td>16-07-2019                                               </td><td>&lt;S4 class 'status' [package \"twitteR\"] with 1 slot&gt;</td></tr>\n",
       "\t<tr><td>2                                                        </td><td>16-07-2019                                               </td><td>&lt;S4 class 'status' [package \"twitteR\"] with 1 slot&gt;</td></tr>\n",
       "\t<tr><td>3                                                        </td><td>16-07-2019                                               </td><td>&lt;S4 class 'status' [package \"twitteR\"] with 1 slot&gt;</td></tr>\n",
       "\t<tr><td>4                                                        </td><td>16-07-2019                                               </td><td>&lt;S4 class 'status' [package \"twitteR\"] with 1 slot&gt;</td></tr>\n",
       "\t<tr><td>5                                                        </td><td>16-07-2019                                               </td><td>&lt;S4 class 'status' [package \"twitteR\"] with 1 slot&gt;</td></tr>\n",
       "\t<tr><td>6                                                        </td><td>16-07-2019                                               </td><td>&lt;S4 class 'status' [package \"twitteR\"] with 1 slot&gt;</td></tr>\n",
       "</tbody>\n",
       "</table>\n"
      ],
      "text/latex": [
       "\\begin{tabular}{r|lll}\n",
       " tweetID & date & tweets\\\\\n",
       "\\hline\n",
       "\t 1                                                       & 16-07-2019                                              & <S4 class 'status' {[}package \"twitteR\"{]} with 1 slot>\\\\\n",
       "\t 2                                                       & 16-07-2019                                              & <S4 class 'status' {[}package \"twitteR\"{]} with 1 slot>\\\\\n",
       "\t 3                                                       & 16-07-2019                                              & <S4 class 'status' {[}package \"twitteR\"{]} with 1 slot>\\\\\n",
       "\t 4                                                       & 16-07-2019                                              & <S4 class 'status' {[}package \"twitteR\"{]} with 1 slot>\\\\\n",
       "\t 5                                                       & 16-07-2019                                              & <S4 class 'status' {[}package \"twitteR\"{]} with 1 slot>\\\\\n",
       "\t 6                                                       & 16-07-2019                                              & <S4 class 'status' {[}package \"twitteR\"{]} with 1 slot>\\\\\n",
       "\\end{tabular}\n"
      ],
      "text/markdown": [
       "\n",
       "| tweetID | date | tweets |\n",
       "|---|---|---|\n",
       "| 1                                                   | 16-07-2019                                          | <S4 class 'status' [package \"twitteR\"] with 1 slot> |\n",
       "| 2                                                   | 16-07-2019                                          | <S4 class 'status' [package \"twitteR\"] with 1 slot> |\n",
       "| 3                                                   | 16-07-2019                                          | <S4 class 'status' [package \"twitteR\"] with 1 slot> |\n",
       "| 4                                                   | 16-07-2019                                          | <S4 class 'status' [package \"twitteR\"] with 1 slot> |\n",
       "| 5                                                   | 16-07-2019                                          | <S4 class 'status' [package \"twitteR\"] with 1 slot> |\n",
       "| 6                                                   | 16-07-2019                                          | <S4 class 'status' [package \"twitteR\"] with 1 slot> |\n",
       "\n"
      ],
      "text/plain": [
       "  tweetID date       tweets                                             \n",
       "1 1       16-07-2019 <S4 class 'status' [package \"twitteR\"] with 1 slot>\n",
       "2 2       16-07-2019 <S4 class 'status' [package \"twitteR\"] with 1 slot>\n",
       "3 3       16-07-2019 <S4 class 'status' [package \"twitteR\"] with 1 slot>\n",
       "4 4       16-07-2019 <S4 class 'status' [package \"twitteR\"] with 1 slot>\n",
       "5 5       16-07-2019 <S4 class 'status' [package \"twitteR\"] with 1 slot>\n",
       "6 6       16-07-2019 <S4 class 'status' [package \"twitteR\"] with 1 slot>"
      ]
     },
     "metadata": {},
     "output_type": "display_data"
    }
   ],
   "source": [
    "head(tweets_df)"
   ]
  },
  {
   "cell_type": "markdown",
   "metadata": {},
   "source": [
    "### 4 - Text Mining\n",
    "Note que temos 3500 observações e 3 colunas na nossa tabela. Porém, a terceira coluna é uma lista que contém todas as informações sobre os tweets coletados. É importante ter em mente que um tweet não é representado apenas pelo seu texto, mas sim por outras informações também, como por exemplo, o seu ID, o autor, a data de publicação e etc. Porém, nos interessa apenas o texto contido no tweet. Então, iremos criar outra função que irá extrair o texto e através de Text Mining, vamos \"limpar\" este texto. Ou seja, vamos remover hashtags, links, pontuações, dígitos e tudo aquilo que não interessa para a nossa análise."
   ]
  },
  {
   "cell_type": "code",
   "execution_count": 20,
   "metadata": {},
   "outputs": [],
   "source": [
    "#Cleaning tweets\n",
    "clean_tweets <- function(tweets){\n",
    "  \n",
    "  #Getting tweets texts\n",
    "  tweets = sapply(tweets, function(x) x$text)\n",
    "  \n",
    "  #Remove retweet entities\n",
    "  tweets = gsub('(RT|via)((?:\\\\b\\\\W*@\\\\w+)+)', \"\", tweets)\n",
    "  \n",
    "  #Remove Hashtags\n",
    "  tweets = gsub('#\\\\w+', \"\", tweets)\n",
    "  \n",
    "  #Remove links\n",
    "  tweets = gsub('http\\\\w+', \"\", tweets)\n",
    "  \n",
    "  #Remove punctuations\n",
    "  tweets = gsub('[[:punct:]]', \"\", tweets)\n",
    "  \n",
    "  #Remove numbers\n",
    "  tweets = gsub('[[:digit:]]', \"\", tweets)\n",
    "  \n",
    "  #Remove line break\n",
    "  tweets = gsub('\\n', \"\", tweets)\n",
    "  \n",
    "  #lower case\n",
    "  tweets = tolower(tweets)\n",
    "}\n",
    "\n",
    "tweets_df$tweets <- clean_tweets(tweets_df$tweets)"
   ]
  },
  {
   "cell_type": "markdown",
   "metadata": {},
   "source": [
    "Embora os tweets ainda apresentem alguns caracteres estranhos, podemos dizer que temos nossos textos devidamente coletados. Estes caracteres estranhos serão tratados mais adiante."
   ]
  },
  {
   "cell_type": "code",
   "execution_count": 21,
   "metadata": {},
   "outputs": [
    {
     "data": {
      "text/html": [
       "<table>\n",
       "<thead><tr><th scope=col>tweetID</th><th scope=col>date</th><th scope=col>tweets</th></tr></thead>\n",
       "<tbody>\n",
       "\t<tr><td>1                                                                                                                         </td><td>16-07-2019                                                                                                                </td><td>se o flamengo anunciar o felipe luís e faço uma tatuagem                                                                  </td></tr>\n",
       "\t<tr><td>2                                                                                                                         </td><td>16-07-2019                                                                                                                </td><td>crfflamengo quer me matar porra quer me matar                                                                             </td></tr>\n",
       "\t<tr><td>3                                                                                                                         </td><td>16-07-2019                                                                                                                </td><td>crfflamengo brincadeira tem hora irmão kkkkk                                                                              </td></tr>\n",
       "\t<tr><td>4                                                                                                                         </td><td>16-07-2019                                                                                                                </td><td>marcosbrazrio flamengo cansado de esperar desiste filipe luismarcosbrazrio rsrsrsrs                                       </td></tr>\n",
       "\t<tr><td>5                                                                                                                         </td><td>16-07-2019                                                                                                                </td><td>futebolinfo só chegar pro cuéllar e fala “ok vc quer sair né vamos te deixar sair até lá vc fica sem jogar t… tcorqoqggqtv</td></tr>\n",
       "\t<tr><td>6                                                                                                                         </td><td>16-07-2019                                                                                                                </td><td>flamengo quanto ele fez no cartola                                                                                        </td></tr>\n",
       "</tbody>\n",
       "</table>\n"
      ],
      "text/latex": [
       "\\begin{tabular}{r|lll}\n",
       " tweetID & date & tweets\\\\\n",
       "\\hline\n",
       "\t 1                                                                                                                          & 16-07-2019                                                                                                                 & se o flamengo anunciar o felipe luís e faço uma tatuagem                                                                  \\\\\n",
       "\t 2                                                                                                                          & 16-07-2019                                                                                                                 & crfflamengo quer me matar porra quer me matar                                                                             \\\\\n",
       "\t 3                                                                                                                          & 16-07-2019                                                                                                                 & crfflamengo brincadeira tem hora irmão kkkkk                                                                              \\\\\n",
       "\t 4                                                                                                                          & 16-07-2019                                                                                                                 & marcosbrazrio flamengo cansado de esperar desiste filipe luismarcosbrazrio rsrsrsrs                                       \\\\\n",
       "\t 5                                                                                                                          & 16-07-2019                                                                                                                 & futebolinfo só chegar pro cuéllar e fala “ok vc quer sair né vamos te deixar sair até lá vc fica sem jogar t… tcorqoqggqtv\\\\\n",
       "\t 6                                                                                                                          & 16-07-2019                                                                                                                 & flamengo quanto ele fez no cartola                                                                                        \\\\\n",
       "\\end{tabular}\n"
      ],
      "text/markdown": [
       "\n",
       "| tweetID | date | tweets |\n",
       "|---|---|---|\n",
       "| 1                                                                                                                          | 16-07-2019                                                                                                                 | se o flamengo anunciar o felipe luís e faço uma tatuagem                                                                   |\n",
       "| 2                                                                                                                          | 16-07-2019                                                                                                                 | crfflamengo quer me matar porra quer me matar                                                                              |\n",
       "| 3                                                                                                                          | 16-07-2019                                                                                                                 | crfflamengo brincadeira tem hora irmão kkkkk                                                                               |\n",
       "| 4                                                                                                                          | 16-07-2019                                                                                                                 | marcosbrazrio flamengo cansado de esperar desiste filipe luismarcosbrazrio rsrsrsrs                                        |\n",
       "| 5                                                                                                                          | 16-07-2019                                                                                                                 | futebolinfo só chegar pro cuéllar e fala “ok vc quer sair né vamos te deixar sair até lá vc fica sem jogar t… tcorqoqggqtv |\n",
       "| 6                                                                                                                          | 16-07-2019                                                                                                                 | flamengo quanto ele fez no cartola                                                                                         |\n",
       "\n"
      ],
      "text/plain": [
       "  tweetID date      \n",
       "1 1       16-07-2019\n",
       "2 2       16-07-2019\n",
       "3 3       16-07-2019\n",
       "4 4       16-07-2019\n",
       "5 5       16-07-2019\n",
       "6 6       16-07-2019\n",
       "  tweets                                                                                                                    \n",
       "1 se o flamengo anunciar o felipe luís e faço uma tatuagem                                                                  \n",
       "2 crfflamengo quer me matar porra quer me matar                                                                             \n",
       "3 crfflamengo brincadeira tem hora irmão kkkkk                                                                              \n",
       "4 marcosbrazrio flamengo cansado de esperar desiste filipe luismarcosbrazrio rsrsrsrs                                       \n",
       "5 futebolinfo só chegar pro cuéllar e fala “ok vc quer sair né vamos te deixar sair até lá vc fica sem jogar t… tcorqoqggqtv\n",
       "6 flamengo quanto ele fez no cartola                                                                                        "
      ]
     },
     "metadata": {},
     "output_type": "display_data"
    }
   ],
   "source": [
    "head(tweets_df)"
   ]
  },
  {
   "cell_type": "markdown",
   "metadata": {},
   "source": [
    "### 5 - Manipulação de dados\n",
    "#### 5.1 - Tokenização\n",
    "Neste tópico iremos fazer a manipulação dos dados. O objetivo aqui é ter uma tabela onde cada registro possui uma única palavra, mantendo sempre a referência a qual tweet esta palavra pertence. Isso será muito útil para as análises seguintes."
   ]
  },
  {
   "cell_type": "code",
   "execution_count": 22,
   "metadata": {},
   "outputs": [
    {
     "data": {
      "text/html": [
       "<table>\n",
       "<thead><tr><th scope=col>tweetID</th><th scope=col>date</th><th scope=col>words</th></tr></thead>\n",
       "<tbody>\n",
       "\t<tr><td>1          </td><td>16-07-2019 </td><td>se         </td></tr>\n",
       "\t<tr><td>1          </td><td>16-07-2019 </td><td>o          </td></tr>\n",
       "\t<tr><td>1          </td><td>16-07-2019 </td><td>flamengo   </td></tr>\n",
       "\t<tr><td>1          </td><td>16-07-2019 </td><td>anunciar   </td></tr>\n",
       "\t<tr><td>1          </td><td>16-07-2019 </td><td>o          </td></tr>\n",
       "\t<tr><td>1          </td><td>16-07-2019 </td><td>felipe     </td></tr>\n",
       "\t<tr><td>1          </td><td>16-07-2019 </td><td>luís       </td></tr>\n",
       "\t<tr><td>1          </td><td>16-07-2019 </td><td>e          </td></tr>\n",
       "\t<tr><td>1          </td><td>16-07-2019 </td><td>faço       </td></tr>\n",
       "\t<tr><td>1          </td><td>16-07-2019 </td><td>uma        </td></tr>\n",
       "\t<tr><td>1          </td><td>16-07-2019 </td><td>tatuagem   </td></tr>\n",
       "\t<tr><td>2          </td><td>16-07-2019 </td><td>crfflamengo</td></tr>\n",
       "\t<tr><td>2          </td><td>16-07-2019 </td><td>quer       </td></tr>\n",
       "\t<tr><td>2          </td><td>16-07-2019 </td><td>me         </td></tr>\n",
       "\t<tr><td>2          </td><td>16-07-2019 </td><td>matar      </td></tr>\n",
       "\t<tr><td>2          </td><td>16-07-2019 </td><td>porra      </td></tr>\n",
       "\t<tr><td>2          </td><td>16-07-2019 </td><td>quer       </td></tr>\n",
       "\t<tr><td>2          </td><td>16-07-2019 </td><td>me         </td></tr>\n",
       "\t<tr><td>2          </td><td>16-07-2019 </td><td>matar      </td></tr>\n",
       "\t<tr><td>3          </td><td>16-07-2019 </td><td>crfflamengo</td></tr>\n",
       "\t<tr><td>3          </td><td>16-07-2019 </td><td>brincadeira</td></tr>\n",
       "\t<tr><td>3          </td><td>16-07-2019 </td><td>tem        </td></tr>\n",
       "\t<tr><td>3          </td><td>16-07-2019 </td><td>hora       </td></tr>\n",
       "\t<tr><td>3          </td><td>16-07-2019 </td><td>irmão      </td></tr>\n",
       "\t<tr><td>3          </td><td>16-07-2019 </td><td>kkkkk      </td></tr>\n",
       "</tbody>\n",
       "</table>\n"
      ],
      "text/latex": [
       "\\begin{tabular}{r|lll}\n",
       " tweetID & date & words\\\\\n",
       "\\hline\n",
       "\t 1           & 16-07-2019  & se         \\\\\n",
       "\t 1           & 16-07-2019  & o          \\\\\n",
       "\t 1           & 16-07-2019  & flamengo   \\\\\n",
       "\t 1           & 16-07-2019  & anunciar   \\\\\n",
       "\t 1           & 16-07-2019  & o          \\\\\n",
       "\t 1           & 16-07-2019  & felipe     \\\\\n",
       "\t 1           & 16-07-2019  & luís       \\\\\n",
       "\t 1           & 16-07-2019  & e          \\\\\n",
       "\t 1           & 16-07-2019  & faço       \\\\\n",
       "\t 1           & 16-07-2019  & uma        \\\\\n",
       "\t 1           & 16-07-2019  & tatuagem   \\\\\n",
       "\t 2           & 16-07-2019  & crfflamengo\\\\\n",
       "\t 2           & 16-07-2019  & quer       \\\\\n",
       "\t 2           & 16-07-2019  & me         \\\\\n",
       "\t 2           & 16-07-2019  & matar      \\\\\n",
       "\t 2           & 16-07-2019  & porra      \\\\\n",
       "\t 2           & 16-07-2019  & quer       \\\\\n",
       "\t 2           & 16-07-2019  & me         \\\\\n",
       "\t 2           & 16-07-2019  & matar      \\\\\n",
       "\t 3           & 16-07-2019  & crfflamengo\\\\\n",
       "\t 3           & 16-07-2019  & brincadeira\\\\\n",
       "\t 3           & 16-07-2019  & tem        \\\\\n",
       "\t 3           & 16-07-2019  & hora       \\\\\n",
       "\t 3           & 16-07-2019  & irmão      \\\\\n",
       "\t 3           & 16-07-2019  & kkkkk      \\\\\n",
       "\\end{tabular}\n"
      ],
      "text/markdown": [
       "\n",
       "| tweetID | date | words |\n",
       "|---|---|---|\n",
       "| 1           | 16-07-2019  | se          |\n",
       "| 1           | 16-07-2019  | o           |\n",
       "| 1           | 16-07-2019  | flamengo    |\n",
       "| 1           | 16-07-2019  | anunciar    |\n",
       "| 1           | 16-07-2019  | o           |\n",
       "| 1           | 16-07-2019  | felipe      |\n",
       "| 1           | 16-07-2019  | luís        |\n",
       "| 1           | 16-07-2019  | e           |\n",
       "| 1           | 16-07-2019  | faço        |\n",
       "| 1           | 16-07-2019  | uma         |\n",
       "| 1           | 16-07-2019  | tatuagem    |\n",
       "| 2           | 16-07-2019  | crfflamengo |\n",
       "| 2           | 16-07-2019  | quer        |\n",
       "| 2           | 16-07-2019  | me          |\n",
       "| 2           | 16-07-2019  | matar       |\n",
       "| 2           | 16-07-2019  | porra       |\n",
       "| 2           | 16-07-2019  | quer        |\n",
       "| 2           | 16-07-2019  | me          |\n",
       "| 2           | 16-07-2019  | matar       |\n",
       "| 3           | 16-07-2019  | crfflamengo |\n",
       "| 3           | 16-07-2019  | brincadeira |\n",
       "| 3           | 16-07-2019  | tem         |\n",
       "| 3           | 16-07-2019  | hora        |\n",
       "| 3           | 16-07-2019  | irmão       |\n",
       "| 3           | 16-07-2019  | kkkkk       |\n",
       "\n"
      ],
      "text/plain": [
       "   tweetID date       words      \n",
       "1  1       16-07-2019 se         \n",
       "2  1       16-07-2019 o          \n",
       "3  1       16-07-2019 flamengo   \n",
       "4  1       16-07-2019 anunciar   \n",
       "5  1       16-07-2019 o          \n",
       "6  1       16-07-2019 felipe     \n",
       "7  1       16-07-2019 luís       \n",
       "8  1       16-07-2019 e          \n",
       "9  1       16-07-2019 faço       \n",
       "10 1       16-07-2019 uma        \n",
       "11 1       16-07-2019 tatuagem   \n",
       "12 2       16-07-2019 crfflamengo\n",
       "13 2       16-07-2019 quer       \n",
       "14 2       16-07-2019 me         \n",
       "15 2       16-07-2019 matar      \n",
       "16 2       16-07-2019 porra      \n",
       "17 2       16-07-2019 quer       \n",
       "18 2       16-07-2019 me         \n",
       "19 2       16-07-2019 matar      \n",
       "20 3       16-07-2019 crfflamengo\n",
       "21 3       16-07-2019 brincadeira\n",
       "22 3       16-07-2019 tem        \n",
       "23 3       16-07-2019 hora       \n",
       "24 3       16-07-2019 irmão      \n",
       "25 3       16-07-2019 kkkkk      "
      ]
     },
     "metadata": {},
     "output_type": "display_data"
    }
   ],
   "source": [
    "#Tokenization  \n",
    "tweets_tokens <- tweets_df %>%\n",
    "  unnest_tokens(words, tweets)\n",
    "\n",
    "head(tweets_tokens, 25)"
   ]
  },
  {
   "cell_type": "markdown",
   "metadata": {},
   "source": [
    "#### 5.2 - Núvem de palavras\n",
    "A fim de visualizar as palavras que são mais comuns dentre os tweets, vamos criar uma outra função que gera uma núvem de palavras."
   ]
  },
  {
   "cell_type": "code",
   "execution_count": 23,
   "metadata": {},
   "outputs": [
    {
     "data": {
      "image/png": "[encoded data removed]",
      "text/plain": [
       "plot without title"
      ]
     },
     "metadata": {},
     "output_type": "display_data"
    }
   ],
   "source": [
    "wc <- function(tweets_tokens){\n",
    "  plot <- tweets_tokens %>%\n",
    "    group_by(words) %>%\n",
    "    summarise(freq = n()) %>%\n",
    "    filter(words != \"ifood\")\n",
    "  \n",
    "  wordcloud(words = plot$words, freq = plot$freq, min.freq = 1,\n",
    "            max.words=200, random.order=FALSE, rot.per=0.35, \n",
    "            colors=brewer.pal(8, \"Dark2\"))\n",
    "}\n",
    "\n",
    "wc(tweets_tokens)"
   ]
  },
  {
   "cell_type": "markdown",
   "metadata": {},
   "source": [
    "### 6 - Stopwords\n",
    "Note que a palavra mais comum é \"flamengo\" pois é o tema da nossa pesquisa e é seguida por várias outras palavras que não tem muito peso semântico.Essas palavras são conhecidas como \"stopwords\". As stopwords são palavras que são comumente usadas e não possuem grande relevância para a semântica do texto. Como por exemplo, as palavras \"a\", \"o\", \"onde\", \"de\" e etc. Então, iremos remove-las.\n",
    "Para tal, iremos usar um conjunto de dados do pacote \"stopwords\" que contém alguns exemplos de stopwords em português. Após carregar esses dados, vamos usar a função \"anti_join\" para excluir todas as palavras em comum entre os tweets e o conjunto de stopwords."
   ]
  },
  {
   "cell_type": "code",
   "execution_count": 24,
   "metadata": {},
   "outputs": [
    {
     "data": {
      "text/html": [
       "<table>\n",
       "<thead><tr><th scope=col>stopwords</th></tr></thead>\n",
       "<tbody>\n",
       "\t<tr><td>a     </td></tr>\n",
       "\t<tr><td>acerca</td></tr>\n",
       "\t<tr><td>adeus </td></tr>\n",
       "\t<tr><td>agora </td></tr>\n",
       "\t<tr><td>ainda </td></tr>\n",
       "\t<tr><td>alem  </td></tr>\n",
       "</tbody>\n",
       "</table>\n"
      ],
      "text/latex": [
       "\\begin{tabular}{r|l}\n",
       " stopwords\\\\\n",
       "\\hline\n",
       "\t a     \\\\\n",
       "\t acerca\\\\\n",
       "\t adeus \\\\\n",
       "\t agora \\\\\n",
       "\t ainda \\\\\n",
       "\t alem  \\\\\n",
       "\\end{tabular}\n"
      ],
      "text/markdown": [
       "\n",
       "| stopwords |\n",
       "|---|\n",
       "| a      |\n",
       "| acerca |\n",
       "| adeus  |\n",
       "| agora  |\n",
       "| ainda  |\n",
       "| alem   |\n",
       "\n"
      ],
      "text/plain": [
       "  stopwords\n",
       "1 a        \n",
       "2 acerca   \n",
       "3 adeus    \n",
       "4 agora    \n",
       "5 ainda    \n",
       "6 alem     "
      ]
     },
     "metadata": {},
     "output_type": "display_data"
    }
   ],
   "source": [
    "#Stopwords\n",
    "\n",
    "stopwords <- stopwords(language = \"pt\", source = \"stopwords-iso\")\n",
    "stopwords <- tibble(stopwords)\n",
    "\n",
    "head(stopwords)\n",
    "\n",
    "tweets_tokens <- tweets_tokens %>%\n",
    "  anti_join(stopwords, by = c(\"words\" = \"stopwords\"))"
   ]
  },
  {
   "cell_type": "markdown",
   "metadata": {},
   "source": [
    "### 7 - Dicionário Léxico\n",
    "Até aqui, o que fizemos foi apenas limpar e manipular os dados. Neste tópico daremos início à análise de sentimentos.\n",
    "O primeiro passo consiste em carregarmos o dicionário léxico. Este dicionário léxico contém uma coluna que indica qual a polaridade das palavras, ou seja, se uma palavra é tida como positiva (+1), neutra (0) ou negativa (-1). O objetivo é conseguir quantificar o valor semântico de cada palavra, e por conseguinte, de cada tweet."
   ]
  },
  {
   "cell_type": "code",
   "execution_count": 25,
   "metadata": {},
   "outputs": [
    {
     "data": {
      "text/html": [
       "<table>\n",
       "<thead><tr><th scope=col>term</th><th scope=col>type</th><th scope=col>polarity</th><th scope=col>polarity_revision</th></tr></thead>\n",
       "<tbody>\n",
       "\t<tr><td>=[  </td><td>emot</td><td>-1  </td><td>A   </td></tr>\n",
       "\t<tr><td>=@  </td><td>emot</td><td>-1  </td><td>A   </td></tr>\n",
       "\t<tr><td>=p  </td><td>emot</td><td>-1  </td><td>A   </td></tr>\n",
       "\t<tr><td>=P  </td><td>emot</td><td>-1  </td><td>A   </td></tr>\n",
       "\t<tr><td>=x  </td><td>emot</td><td>-1  </td><td>A   </td></tr>\n",
       "\t<tr><td>=d  </td><td>emot</td><td> 1  </td><td>A   </td></tr>\n",
       "</tbody>\n",
       "</table>\n"
      ],
      "text/latex": [
       "\\begin{tabular}{r|llll}\n",
       " term & type & polarity & polarity\\_revision\\\\\n",
       "\\hline\n",
       "\t ={[} & emot & -1   & A   \\\\\n",
       "\t =@   & emot & -1   & A   \\\\\n",
       "\t =p   & emot & -1   & A   \\\\\n",
       "\t =P   & emot & -1   & A   \\\\\n",
       "\t =x   & emot & -1   & A   \\\\\n",
       "\t =d   & emot &  1   & A   \\\\\n",
       "\\end{tabular}\n"
      ],
      "text/markdown": [
       "\n",
       "| term | type | polarity | polarity_revision |\n",
       "|---|---|---|---|\n",
       "| =[   | emot | -1   | A    |\n",
       "| =@   | emot | -1   | A    |\n",
       "| =p   | emot | -1   | A    |\n",
       "| =P   | emot | -1   | A    |\n",
       "| =x   | emot | -1   | A    |\n",
       "| =d   | emot |  1   | A    |\n",
       "\n"
      ],
      "text/plain": [
       "  term type polarity polarity_revision\n",
       "1 =[   emot -1       A                \n",
       "2 =@   emot -1       A                \n",
       "3 =p   emot -1       A                \n",
       "4 =P   emot -1       A                \n",
       "5 =x   emot -1       A                \n",
       "6 =d   emot  1       A                "
      ]
     },
     "metadata": {},
     "output_type": "display_data"
    }
   ],
   "source": [
    "#LexiconPT\n",
    "lex_pt <- oplexicon_v3.0\n",
    "head(lex_pt)"
   ]
  },
  {
   "cell_type": "markdown",
   "metadata": {},
   "source": [
    "Em seguida iremos cruzar as palavras dos tweets com as palavras do dicionário léxico, atribuindo uma polaridade para cada palavra dos tweets. Para isso, usaremos a função \"inner_join\"."
   ]
  },
  {
   "cell_type": "code",
   "execution_count": 26,
   "metadata": {},
   "outputs": [
    {
     "data": {
      "text/html": [
       "<table>\n",
       "<thead><tr><th scope=col>tweetID</th><th scope=col>date</th><th scope=col>words</th><th scope=col>polarity</th></tr></thead>\n",
       "<tbody>\n",
       "\t<tr><td>1         </td><td>16-07-2019</td><td>anunciar  </td><td> 0        </td></tr>\n",
       "\t<tr><td>2         </td><td>16-07-2019</td><td>matar     </td><td>-1        </td></tr>\n",
       "\t<tr><td>2         </td><td>16-07-2019</td><td>matar     </td><td>-1        </td></tr>\n",
       "\t<tr><td>4         </td><td>16-07-2019</td><td>cansado   </td><td>-1        </td></tr>\n",
       "\t<tr><td>4         </td><td>16-07-2019</td><td>esperar   </td><td> 1        </td></tr>\n",
       "\t<tr><td>5         </td><td>16-07-2019</td><td>chegar    </td><td>-1        </td></tr>\n",
       "</tbody>\n",
       "</table>\n"
      ],
      "text/latex": [
       "\\begin{tabular}{r|llll}\n",
       " tweetID & date & words & polarity\\\\\n",
       "\\hline\n",
       "\t 1          & 16-07-2019 & anunciar   &  0        \\\\\n",
       "\t 2          & 16-07-2019 & matar      & -1        \\\\\n",
       "\t 2          & 16-07-2019 & matar      & -1        \\\\\n",
       "\t 4          & 16-07-2019 & cansado    & -1        \\\\\n",
       "\t 4          & 16-07-2019 & esperar    &  1        \\\\\n",
       "\t 5          & 16-07-2019 & chegar     & -1        \\\\\n",
       "\\end{tabular}\n"
      ],
      "text/markdown": [
       "\n",
       "| tweetID | date | words | polarity |\n",
       "|---|---|---|---|\n",
       "| 1          | 16-07-2019 | anunciar   |  0         |\n",
       "| 2          | 16-07-2019 | matar      | -1         |\n",
       "| 2          | 16-07-2019 | matar      | -1         |\n",
       "| 4          | 16-07-2019 | cansado    | -1         |\n",
       "| 4          | 16-07-2019 | esperar    |  1         |\n",
       "| 5          | 16-07-2019 | chegar     | -1         |\n",
       "\n"
      ],
      "text/plain": [
       "  tweetID date       words    polarity\n",
       "1 1       16-07-2019 anunciar  0      \n",
       "2 2       16-07-2019 matar    -1      \n",
       "3 2       16-07-2019 matar    -1      \n",
       "4 4       16-07-2019 cansado  -1      \n",
       "5 4       16-07-2019 esperar   1      \n",
       "6 5       16-07-2019 chegar   -1      "
      ]
     },
     "metadata": {},
     "output_type": "display_data"
    }
   ],
   "source": [
    "tweets_tokens <- tweets_tokens %>%\n",
    "  inner_join(lex_pt, by = c(\"words\" = \"term\")) %>%\n",
    "  select(tweetID, date, words, polarity)\n",
    "\n",
    "head(tweets_tokens)"
   ]
  },
  {
   "cell_type": "markdown",
   "metadata": {},
   "source": [
    "Agora iremos visualizar novamente uma núvem de palavras para entender como a retirada das stopwords e cruzamento com o dicionário léxico afetaram nossos tweets."
   ]
  },
  {
   "cell_type": "code",
   "execution_count": 27,
   "metadata": {},
   "outputs": [
    {
     "data": {
      "image/png": "[encoded data removed]",
      "text/plain": [
       "plot without title"
      ]
     },
     "metadata": {},
     "output_type": "display_data"
    }
   ],
   "source": [
    "wc(tweets_tokens)"
   ]
  },
  {
   "cell_type": "markdown",
   "metadata": {},
   "source": [
    "### 8 - Resultados\n",
    "Após feita a polarização das palavras contidas nos tweets, vamos utilizar esses dados para extrair melhores informações dos textos."
   ]
  },
  {
   "cell_type": "markdown",
   "metadata": {},
   "source": [
    "#### 8.1 - Top 10 tweets \"positivos\""
   ]
  },
  {
   "cell_type": "code",
   "execution_count": 28,
   "metadata": {},
   "outputs": [
    {
     "data": {
      "image/png": "[encoded data removed]",
      "text/plain": [
       "plot without title"
      ]
     },
     "metadata": {},
     "output_type": "display_data"
    }
   ],
   "source": [
    "#Most positive tweets\n",
    "top_10_pos <- tweets_tokens %>%\n",
    "  group_by(tweetID) %>%\n",
    "  summarise(polarity = sum(polarity)) %>%\n",
    "  arrange(desc(polarity)) %>%\n",
    "  head(10)\n",
    "\n",
    "  #Ordering\n",
    "  top_10_pos$tweetID <- factor(top_10_pos$tweetID,\n",
    "                               levels = unique(top_10_pos$tweetID[order(top_10_pos$polarity,\n",
    "                                                                        decreasing = FALSE)]))\n",
    "  #Plot\n",
    "  ggplot(top_10_pos, aes(tweetID, polarity)) +\n",
    "    geom_col(fill = \"cornflowerblue\") +\n",
    "    coord_flip() +\n",
    "    xlab(\"Tweet ID\") + ylab(\"Polarity\") + ggtitle(\"Top 10 positive Polarity x Tweet ID\")"
   ]
  },
  {
   "cell_type": "markdown",
   "metadata": {},
   "source": [
    "#### 8.2 - Top 10 tweets \"negativos\""
   ]
  },
  {
   "cell_type": "code",
   "execution_count": 29,
   "metadata": {},
   "outputs": [
    {
     "data": {
      "image/png": "[encoded data removed]",
      "text/plain": [
       "plot without title"
      ]
     },
     "metadata": {},
     "output_type": "display_data"
    }
   ],
   "source": [
    "#Most negative tweets\n",
    "top_10_neg <- tweets_tokens %>%\n",
    "  group_by(tweetID) %>%\n",
    "  summarise(polarity = sum(polarity)) %>%\n",
    "  arrange(polarity) %>%\n",
    "  head(10)\n",
    "\n",
    "  #Ordering\n",
    "  top_10_neg$tweetID <- factor(top_10_neg$tweetID,\n",
    "                               levels = unique(top_10_neg$tweetID)[order(top_10_neg$polarity,\n",
    "                                                                           decreasing = TRUE)])\n",
    "  #Plot\n",
    "  ggplot(top_10_neg, aes(tweetID, polarity)) +\n",
    "    geom_col(fill = \"lightcoral\") +\n",
    "    coord_flip() +\n",
    "    xlab(\"Tweet ID\") + ylab(\"Polarity\") + ggtitle(\"Top 10 negative Polarity x Tweet ID\")"
   ]
  },
  {
   "cell_type": "markdown",
   "metadata": {},
   "source": [
    "#### 8.3 - Overview da análise de sentimentos\n",
    "O gráfico a seguir categoriza os tweets como \"positivos\", \"negativos\" e \"neutros\" e mostra qual a quantidade de tweets por categoria."
   ]
  },
  {
   "cell_type": "code",
   "execution_count": 30,
   "metadata": {},
   "outputs": [
    {
     "data": {
      "image/png": "[encoded data removed]",
      "text/plain": [
       "plot without title"
      ]
     },
     "metadata": {},
     "output_type": "display_data"
    }
   ],
   "source": [
    "#Sentiment Analysis Overview\n",
    "\n",
    "tweets_tokens %>%\n",
    "  group_by(tweetID) %>%\n",
    "  summarise(polarity = sum(polarity)) %>%\n",
    "  mutate(class = ifelse(polarity > 0, \"positive\",\n",
    "                       ifelse(polarity < 0, \"negative\", \"neutral\"))) %>%\n",
    "  count(class) %>%\n",
    "  ggplot(aes(factor(class), n, fill = class)) +\n",
    "  geom_col() +\n",
    "  xlab(\"Class\") + ylab(\"Tweet ID\") + ggtitle(\"Class x Tweet ID\")"
   ]
  },
  {
   "cell_type": "markdown",
   "metadata": {},
   "source": [
    "#### 8.4 - Análise de sentimentos em série temporal\n",
    "Este gráfico mostra como foi a sentimento dos usuários em relação ao tema ao longo do período determinado na busca."
   ]
  },
  {
   "cell_type": "code",
   "execution_count": 31,
   "metadata": {},
   "outputs": [
    {
     "data": {
      "image/png": "[encoded data removed]",
      "text/plain": [
       "plot without title"
      ]
     },
     "metadata": {},
     "output_type": "display_data"
    }
   ],
   "source": [
    "#Time series\n",
    "tweets_tokens %>%\n",
    "  group_by(date) %>%\n",
    "  summarise(polarity = sum(polarity)) %>%\n",
    "  ggplot(aes(date, polarity, group = 1)) +\n",
    "  geom_line() +\n",
    "  ggtitle(\"Polarity x Date\")"
   ]
  },
  {
   "cell_type": "markdown",
   "metadata": {},
   "source": [
    "### 9 - Considerações finais"
   ]
  },
  {
   "cell_type": "markdown",
   "metadata": {},
   "source": [
    "Por fim, conseguimos extrair insights relevantes de como andou o ânimo dos rubro negros na semana do dia 16/07 a 23/07 de 2019.\n",
    "Vamos analisar o gráfico do ítem 8.4. Entre os dias 16 e 17 temos uma leve crescida no índice de polaridade pois o torcedor vivia a expectativa do jogo decisivo entre Flamengo e Atlético Paranaense pela Copa do Brasil (https://globoesporte.globo.com/pr/futebol/copa-do-brasil/noticia/veja-os-melhores-momentos-gols-e-os-penaltis-de-flamengo-x-athletico-pela-copa-do-brasil.ghtml). Expectativa esta que não se confirmou e isso explica a forte insatisfação da torcida nos dias seguintes. Junto à derrota nas penalidades máximas, no dia 21 o time empatou com o Corinthians num jogo moroso o que deixou a exigente torcida mais insatisfeita ainda. Porém, no dia seguinte, a diretoria do clube anunciou uma contratação de peso! Felipe Luiz se torna então jogador do flamengo(https://esportes.r7.com/prisma/cosme-rimoli/por-copa-do-qatar-e-salario-europeu-filipe-luis-e-do-flamengo-22072019). O lateral veio pra ocupar um setor do campo que a torcida apontava carências já há um bom tempo o que explica a forte acensão do humor dos rubro negros.\n",
    "Vale ressaltar que o método aqui adotado para a análise de sentimentos pode não ser o mais preciso pois depende muito da qualidade do dicionário léxico. Porém, podemos ver que os resultados coincidem com os acontecimentos da agitada semana no ninho do urubu.\n",
    "\n",
    "Deixo a cargo do leitor adivinhar qual o time que o autor torce. Espero que você não precise fazer uma análise de sentimentos para descobrir! Rs.\n",
    "\n",
    "Obrigado!"
   ]
  }
 ],
 "metadata": {
  "kernelspec": {
   "display_name": "R",
   "language": "R",
   "name": "ir"
  },
  "language_info": {
   "codemirror_mode": "r",
   "file_extension": ".r",
   "mimetype": "text/x-r-source",
   "name": "R",
   "pygments_lexer": "r",
   "version": "3.6.0"
  }
 },
 "nbformat": 4,
 "nbformat_minor": 2
}
